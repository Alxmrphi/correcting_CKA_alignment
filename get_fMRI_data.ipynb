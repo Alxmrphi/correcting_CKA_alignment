{
 "cells": [
  {
   "cell_type": "code",
   "execution_count": null,
   "metadata": {},
   "outputs": [],
   "source": [
    "from get_fMRI_data import *\n",
    "from pathlib import Path"
   ]
  },
  {
   "cell_type": "code",
   "execution_count": null,
   "metadata": {},
   "outputs": [],
   "source": [
    "subject_folder = Path(f'.')\n",
    "\n",
    "sub_no = \"01\"\n",
    "stim_file = subject_folder / f'sub-{sub_no}_StimulusMetadata.csv'\n",
    "voxel_file = subject_folder / f'sub-{sub_no}_VoxelMetadata.csv'\n",
    "data_file = subject_folder / f'sub-{sub_no}_ResponseData.h5'\n",
    "\n",
    "train_list_path = Path('/home/amurphy3/nc/data/THINGS/imgs_train')\n",
    "val_list_path = Path('/home/amurphy3/nc/data/THINGS/imgs_val')"
   ]
  },
  {
   "cell_type": "code",
   "execution_count": null,
   "metadata": {},
   "outputs": [],
   "source": [
    "get_fMRI_data(stim_file=stim_file,\n",
    "              voxel_file=voxel_file,\n",
    "              data_file=data_file,\n",
    "              subject_no=sub_no,\n",
    "              subject_folder=subject_folder,\n",
    "              imgs_list_path=imgs_list_path,\n",
    "              roi='V1',\n",
    "              save_fname=f\"fMRI_train_sub{sub_no}_{roi}.npy\"\n",
    ")"
   ]
  }
 ],
 "metadata": {
  "kernelspec": {
   "display_name": "Python 3 (ipykernel)",
   "language": "python",
   "name": "python3"
  },
  "language_info": {
   "name": "python",
   "version": "3.9.12"
  },
  "orig_nbformat": 4
 },
 "nbformat": 4,
 "nbformat_minor": 2
}
